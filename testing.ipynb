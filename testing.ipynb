{
 "cells": [
  {
   "cell_type": "markdown",
   "metadata": {},
   "source": [
    "!pip install torcheeg #suppose having pytorch"
   ]
  },
  {
   "cell_type": "code",
   "execution_count": 5,
   "metadata": {},
   "outputs": [],
   "source": [
    "#class declration\n",
    "import torch\n",
    "import torch.nn as nn\n",
    "from torch.utils.data import Dataset, DataLoader\n",
    "from sklearn.preprocessing import OneHotEncoder\n",
    "\n",
    "class capilabDS(Dataset):\n",
    "    def __init__(self, x, y, device = 'cpu'):\n",
    "        self.x = x\n",
    "        self.y = y\n",
    "        self.device = device\n",
    "        self.num_class = np.unique(self.y)\n",
    "        ohe = OneHotEncoder(sparse_output = False)\n",
    "        self.y = ohe.fit_transform(self.y, self.num_class)\n",
    "    \n",
    "    def __len__(self):\n",
    "        return len(self.x)\n",
    "    \n",
    "    def __getitem__(self, index):\n",
    "        \n",
    "        x = torch.Tensor(self.x[index,:,:,:]).to(self.device, torch.float32)\n",
    "        y = torch.Tensor(self.y[index, :]).to(self.device, torch.float32)\n",
    "\n",
    "        return (x, y)"
   ]
  },
  {
   "cell_type": "markdown",
   "metadata": {},
   "source": [
    "## Inference"
   ]
  },
  {
   "cell_type": "code",
   "execution_count": 7,
   "metadata": {},
   "outputs": [
    {
     "name": "stdout",
     "output_type": "stream",
     "text": [
      "[0 1 0 2 1 2 1 0 2 1 1 1 0 0 2 2 1 2 2 1 0 2 0] [2 1 1 0 0 1 0 0 0 1 2 1 0 2 1 2 1 1 2 0 0 2 1]\n",
      "accuracy 43.47826086956522%\n"
     ]
    }
   ],
   "source": [
    "import torch\n",
    "from torcheeg.models import EEGNet\n",
    "import numpy as np\n",
    "\n",
    "device = 'cuda' if torch.cuda.is_available() else 'cpu'\n",
    "\n",
    "if device == 'cuda':\n",
    "    model = torch.load('rose2023bmi').to(device)\n",
    "else:\n",
    "    model = torch.load('rose2023bmi', map_location='cpu') # in case no cuda support\n",
    "\n",
    "\n",
    "xv = np.load('x_test.npy')\n",
    "yv = np.load(\"y_test.npy\")\n",
    "test_data = capilabDS(xv, yv, device = device)\n",
    "test_loader = DataLoader(test_data, batch_size=64, shuffle = False)\n",
    "bacc = 0\n",
    "with torch.no_grad():\n",
    "    for i, batch in enumerate(test_loader):\n",
    "        x, y = batch\n",
    "        yhat = model(x)\n",
    "\n",
    "        pred = np.argmax(nn.functional.softmax(yhat, 1).detach().cpu().numpy(), 1)\n",
    "        target = np.argmax(y.detach().cpu().numpy(), 1)\n",
    "        bacc += np.sum(pred == target)\n",
    "        print(target, pred)\n",
    "    print(f\"accuracy {bacc / len(test_loader.dataset) * 100}%\")\n"
   ]
  }
 ],
 "metadata": {
  "kernelspec": {
   "display_name": "demo-eeg",
   "language": "python",
   "name": "python3"
  },
  "language_info": {
   "codemirror_mode": {
    "name": "ipython",
    "version": 3
   },
   "file_extension": ".py",
   "mimetype": "text/x-python",
   "name": "python",
   "nbconvert_exporter": "python",
   "pygments_lexer": "ipython3",
   "version": "3.10.13"
  }
 },
 "nbformat": 4,
 "nbformat_minor": 2
}
